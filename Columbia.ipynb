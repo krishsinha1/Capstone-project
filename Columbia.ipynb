{
 "cells": [
  {
   "cell_type": "code",
   "execution_count": null,
   "id": "67ad3fad",
   "metadata": {},
   "outputs": [],
   "source": [
    "pip install selenium"
   ]
  },
  {
   "cell_type": "code",
   "execution_count": null,
   "id": "d601478f",
   "metadata": {},
   "outputs": [],
   "source": [
    "from selenium import webdriver\n",
    "import time\n",
    "import pandas as pd"
   ]
  },
  {
   "cell_type": "code",
   "execution_count": null,
   "id": "05bb5e8c",
   "metadata": {},
   "outputs": [],
   "source": [
    "driver = webdriver.Chrome(r\"C:\\Users\\Krishna Kant Sinha\\Downloads\\chromedriver_win32.zip\\chromedriver.exe\")\n",
    "driver.get('https://www.columbia.com')"
   ]
  },
  {
   "cell_type": "code",
   "execution_count": null,
   "id": "accac626",
   "metadata": {},
   "outputs": [],
   "source": [
    "search_box = driver.find_element(\"id\", \"search-input\")\n",
    "search_box.send_keys(\"jackets\")\n",
    "\n",
    "search_box.submit()\n",
    "\n",
    "time.sleep(5)\n",
    "\n",
    "product_names = driver.find_elements_by_css_selector('.product-card-title')\n",
    "product_prices = driver.find_elements_by_css_selector('.product-card-price')\n",
    "\n",
    "names_list = [product.text for product in product_names]\n",
    "prices_list = [price.text for price in product_prices]\n"
   ]
  },
  {
   "cell_type": "code",
   "execution_count": null,
   "id": "3c60169a",
   "metadata": {},
   "outputs": [],
   "source": [
    "columbia_df = pd.DataFrame({\n",
    "    'Product Name': names_list,\n",
    "    'Price': prices_list\n",
    "})\n",
    "print(columbia_df)"
   ]
  },
  {
   "cell_type": "code",
   "execution_count": null,
   "id": "3375b011",
   "metadata": {},
   "outputs": [],
   "source": []
  }
 ],
 "metadata": {
  "kernelspec": {
   "display_name": "Python 3 (ipykernel)",
   "language": "python",
   "name": "python3"
  },
  "language_info": {
   "codemirror_mode": {
    "name": "ipython",
    "version": 3
   },
   "file_extension": ".py",
   "mimetype": "text/x-python",
   "name": "python",
   "nbconvert_exporter": "python",
   "pygments_lexer": "ipython3",
   "version": "3.11.4"
  }
 },
 "nbformat": 4,
 "nbformat_minor": 5
}
