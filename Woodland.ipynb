{
 "cells": [
  {
   "cell_type": "code",
   "execution_count": null,
   "id": "646daa6b",
   "metadata": {},
   "outputs": [],
   "source": [
    "pip install selenium"
   ]
  },
  {
   "cell_type": "code",
   "execution_count": null,
   "id": "9e103f69",
   "metadata": {},
   "outputs": [],
   "source": [
    "from selenium import webdriver\n",
    "import time\n",
    "import pandas as pd"
   ]
  },
  {
   "cell_type": "code",
   "execution_count": null,
   "id": "c6f516eb",
   "metadata": {},
   "outputs": [],
   "source": [
    "driver = webdriver.Chrome(r\"C:\\Users\\Krishna Kant Sinha\\Downloads\\chromedriver_win32.zip\\chromedriver.exe\")\n",
    "driver.get('https://www.woodlandworldwide.com')"
   ]
  },
  {
   "cell_type": "code",
   "execution_count": null,
   "id": "cf3c3a51",
   "metadata": {},
   "outputs": [],
   "source": [
    "search_box = driver.find_element(\"name\", \"q\")\n",
    "search_box.send_keys(\"shoes\")\n",
    "search_box.submit()\n",
    "\n",
    "time.sleep(5)\n",
    "\n",
    "product_names = driver.find_elements_by_css_selector('.product-title')\n",
    "product_prices = driver.find_elements_by_css_selector('.price')\n",
    "\n",
    "names_list = [product.text for product in product_names]\n",
    "prices_list = [price.text for price in product_prices]\n"
   ]
  },
  {
   "cell_type": "code",
   "execution_count": null,
   "id": "811b9b12",
   "metadata": {},
   "outputs": [],
   "source": [
    "woodland_df = pd.DataFrame({\n",
    "    'Product Name': names_list,\n",
    "    'Price': prices_list\n",
    "})\n",
    "\n",
    "print(woodland_df)\n"
   ]
  },
  {
   "cell_type": "code",
   "execution_count": null,
   "id": "40e2969e",
   "metadata": {},
   "outputs": [],
   "source": []
  }
 ],
 "metadata": {
  "kernelspec": {
   "display_name": "Python 3 (ipykernel)",
   "language": "python",
   "name": "python3"
  },
  "language_info": {
   "codemirror_mode": {
    "name": "ipython",
    "version": 3
   },
   "file_extension": ".py",
   "mimetype": "text/x-python",
   "name": "python",
   "nbconvert_exporter": "python",
   "pygments_lexer": "ipython3",
   "version": "3.11.4"
  }
 },
 "nbformat": 4,
 "nbformat_minor": 5
}
