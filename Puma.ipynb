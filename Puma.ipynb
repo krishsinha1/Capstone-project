{
 "cells": [
  {
   "cell_type": "code",
   "execution_count": null,
   "id": "1c66ac03",
   "metadata": {},
   "outputs": [],
   "source": [
    "pip install selenium"
   ]
  },
  {
   "cell_type": "code",
   "execution_count": null,
   "id": "c6ec0e6e",
   "metadata": {},
   "outputs": [],
   "source": [
    "from selenium import webdriver\n",
    "import time\n",
    "import pandas as pd"
   ]
  },
  {
   "cell_type": "code",
   "execution_count": null,
   "id": "df803798",
   "metadata": {},
   "outputs": [],
   "source": [
    "driver = webdriver.Chrome(r\"C:\\Users\\Krishna Kant Sinha\\Downloads\\chromedriver_win32.zip\\chromedriver.exe\")\n",
    "driver.get('https://us.puma.com/us/en')"
   ]
  },
  {
   "cell_type": "code",
   "execution_count": null,
   "id": "3295a181",
   "metadata": {},
   "outputs": [],
   "source": [
    "search_box = driver.find_element(\"id\", \"q\")\n",
    "search_box.send_keys(\"running shoes\")\n",
    "search_box.submit()\n",
    "\n",
    "time.sleep(5)\n",
    "\n",
    "product_names = driver.find_elements_by_css_selector('.product-tile-title')\n",
    "product_prices = driver.find_elements_by_css_selector('.product-price')\n",
    "\n",
    "names_list = [product.text for product in product_names]\n",
    "prices_list = [price.text for price in product_prices]\n"
   ]
  },
  {
   "cell_type": "code",
   "execution_count": null,
   "id": "5b07eea0",
   "metadata": {},
   "outputs": [],
   "source": [
    "puma_df = pd.DataFrame({\n",
    "    'Product Name': names_list,\n",
    "    'Price': prices_list\n",
    "})\n",
    "print(puma_df)"
   ]
  }
 ],
 "metadata": {
  "kernelspec": {
   "display_name": "Python 3 (ipykernel)",
   "language": "python",
   "name": "python3"
  },
  "language_info": {
   "codemirror_mode": {
    "name": "ipython",
    "version": 3
   },
   "file_extension": ".py",
   "mimetype": "text/x-python",
   "name": "python",
   "nbconvert_exporter": "python",
   "pygments_lexer": "ipython3",
   "version": "3.11.4"
  }
 },
 "nbformat": 4,
 "nbformat_minor": 5
}
